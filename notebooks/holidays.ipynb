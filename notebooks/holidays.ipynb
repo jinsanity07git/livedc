{
 "cells": [
  {
   "cell_type": "markdown",
   "metadata": {},
   "source": [
    "[![Open In Colab](https://colab.research.google.com/assets/colab-badge.svg)](https://colab.research.google.com/github/jinsanity07git/livedc/blob/main/notebooks/holidays.ipynb)"
   ]
  },
  {
   "cell_type": "code",
   "execution_count": 5,
   "metadata": {},
   "outputs": [],
   "source": [
    "import os; import sys; os.system(\"pip install livedc\") if \"COLAB_JUPYTER_TRANSPORT\" in os.environ else sys.path.insert(0, '../src')"
   ]
  },
  {
   "cell_type": "code",
   "execution_count": 6,
   "metadata": {},
   "outputs": [
    {
     "data": {
      "text/markdown": [
       "90-day flexing and fisical year rules applied\n",
       "    "
      ],
      "text/plain": [
       "<IPython.core.display.Markdown object>"
      ]
     },
     "metadata": {},
     "output_type": "display_data"
    }
   ],
   "source": [
    "from livedc.calendar.cntdate import flex_holiday,time_passed\n",
    "flex_holiday.rdoc()"
   ]
  },
  {
   "cell_type": "code",
   "execution_count": 7,
   "metadata": {},
   "outputs": [
    {
     "name": "stdout",
     "output_type": "stream",
     "text": [
      "112 days  passed:\n",
      "3 month passed:\n"
     ]
    },
    {
     "data": {
      "text/plain": [
       "(datetime.timedelta(days=112, seconds=74049, microseconds=755373), 3)"
      ]
     },
     "execution_count": 7,
     "metadata": {},
     "output_type": "execute_result"
    }
   ],
   "source": [
    "time_passed((2025,1,1))"
   ]
  },
  {
   "cell_type": "code",
   "execution_count": 8,
   "metadata": {},
   "outputs": [
    {
     "name": "stdout",
     "output_type": "stream",
     "text": [
      "Take holiday before: 2024-12-01\n",
      "Take holiday before: 2025-01-12\n",
      "Take holiday before: 2025-02-09\n",
      "Take holiday before: 2025-02-26\n",
      "Take holiday before: 2025-02-27\n",
      "Take holiday before: 2025-03-25\n"
     ]
    }
   ],
   "source": [
    "d = flex_holiday(ymd=(2024,9,2))\n",
    "d = flex_holiday(ymd=(2024,10,14))\n",
    "d = flex_holiday(ymd=(2024,11,11))\n",
    "d = flex_holiday(ymd=(2024,11,28))\n",
    "d = flex_holiday(ymd=(2024,11,29))\n",
    "d = flex_holiday(ymd=(2024,12,25))\n"
   ]
  }
 ],
 "metadata": {
  "kernelspec": {
   "display_name": "Python 3",
   "language": "python",
   "name": "python3"
  },
  "language_info": {
   "codemirror_mode": {
    "name": "ipython",
    "version": 3
   },
   "file_extension": ".py",
   "mimetype": "text/x-python",
   "name": "python",
   "nbconvert_exporter": "python",
   "pygments_lexer": "ipython3",
   "version": "3.12.1"
  }
 },
 "nbformat": 4,
 "nbformat_minor": 2
}
