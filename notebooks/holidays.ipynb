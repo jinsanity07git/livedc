{
 "cells": [
  {
   "cell_type": "markdown",
   "metadata": {},
   "source": [
    "[![Open In Colab](https://colab.research.google.com/assets/colab-badge.svg)](https://colab.research.google.com/github/jinsanity07git/livedc/blob/main/notebooks/holidays.ipynb)"
   ]
  },
  {
   "cell_type": "code",
   "execution_count": 1,
   "metadata": {},
   "outputs": [],
   "source": [
    "import os; os.system(\"pip install livedc\") if \"COLAB_JUPYTER_TRANSPORT\" in os.environ else None"
   ]
  },
  {
   "cell_type": "code",
   "execution_count": 2,
   "metadata": {},
   "outputs": [
    {
     "name": "stderr",
     "output_type": "stream",
     "text": [
      "C:\\Users\\Zjin\\AppData\\Roaming\\Python\\Python311\\site-packages\\pandas\\core\\arrays\\masked.py:60: UserWarning: Pandas requires version '1.3.6' or newer of 'bottleneck' (version '1.3.5' currently installed).\n",
      "  from pandas.core import (\n"
     ]
    },
    {
     "data": {
      "text/markdown": [
       "90-day flexing and fisical year rules applied\n",
       "    "
      ],
      "text/plain": [
       "<IPython.core.display.Markdown object>"
      ]
     },
     "metadata": {},
     "output_type": "display_data"
    }
   ],
   "source": [
    "from livedc.calendar.cntdate import flex_holiday\n",
    "flex_holiday.rdoc()"
   ]
  },
  {
   "cell_type": "code",
   "execution_count": 12,
   "metadata": {},
   "outputs": [
    {
     "name": "stdout",
     "output_type": "stream",
     "text": [
      "Take holiday before: 2024-12-01\n",
      "Take holiday before: 2025-01-12\n",
      "Take holiday before: 2025-02-09\n",
      "Take holiday before: 2025-02-26\n",
      "Take holiday before: 2025-02-27\n",
      "Take holiday before: 2025-03-25\n"
     ]
    }
   ],
   "source": [
    "d = flex_holiday(ymd=(2024,9,2))\n",
    "d = flex_holiday(ymd=(2024,10,14))\n",
    "d = flex_holiday(ymd=(2024,11,11))\n",
    "d = flex_holiday(ymd=(2024,11,28))\n",
    "d = flex_holiday(ymd=(2024,11,29))\n",
    "d = flex_holiday(ymd=(2024,12,25))\n"
   ]
  }
 ],
 "metadata": {
  "kernelspec": {
   "display_name": "base",
   "language": "python",
   "name": "python3"
  },
  "language_info": {
   "codemirror_mode": {
    "name": "ipython",
    "version": 3
   },
   "file_extension": ".py",
   "mimetype": "text/x-python",
   "name": "python",
   "nbconvert_exporter": "python",
   "pygments_lexer": "ipython3",
   "version": "3.11.5"
  }
 },
 "nbformat": 4,
 "nbformat_minor": 2
}
