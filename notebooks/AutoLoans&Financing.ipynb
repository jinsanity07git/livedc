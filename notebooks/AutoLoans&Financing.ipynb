{
 "cells": [
  {
   "cell_type": "markdown",
   "metadata": {},
   "source": [
    "[![Open In Colab](https://colab.research.google.com/assets/colab-badge.svg)](https://colab.research.google.com/github/jinsanity07git/livedc/blob/main/notebooks/latefee_chase.ipynb#scrollTo=XgCQhLhv-Av0)"
   ]
  },
  {
   "cell_type": "code",
   "execution_count": 1,
   "metadata": {},
   "outputs": [],
   "source": [
    "import os; os.system(\"pip install livedc\") if \"COLAB_JUPYTER_TRANSPORT\" in os.environ else None"
   ]
  },
  {
   "cell_type": "code",
   "execution_count": 2,
   "metadata": {},
   "outputs": [
    {
     "name": "stderr",
     "output_type": "stream",
     "text": [
      "C:\\Users\\Zjin\\AppData\\Roaming\\Python\\Python311\\site-packages\\pandas\\core\\arrays\\masked.py:60: UserWarning: Pandas requires version '1.3.6' or newer of 'bottleneck' (version '1.3.5' currently installed).\n",
      "  from pandas.core import (\n"
     ]
    },
    {
     "data": {
      "text/markdown": [
       "$$ A = P(1 + \\frac{r}{n})^{nt} $$\n",
       "  \n",
       "  Calculate the compound interest.\n",
       "  - A\t=\tfinal amount || 终值\n",
       "  - P\t=\tinitial principal balance || 现值\n",
       "  - r\t=\tinterest rate || （年化）利率\n",
       "  - n\t=\tnumber of times interest applied per time period || 期数\n",
       "  - t\t=\tnumber of time periods elapsed || （年数)\n",
       "  \n",
       "\n",
       "  Returns:\n",
       "    The final amount after applying compound interest.\n",
       "  \n",
       "  Ref\n",
       "  - [Compound Interest Calculator](https://www.calculatorsoup.com/calculators/financial/compound-interest-calculator.php)\n",
       "  "
      ],
      "text/plain": [
       "<IPython.core.display.Markdown object>"
      ]
     },
     "metadata": {},
     "output_type": "display_data"
    }
   ],
   "source": [
    "from livedc.math.financial.compound import compound_interest\n",
    "compound_interest.rdoc()"
   ]
  },
  {
   "cell_type": "markdown",
   "metadata": {},
   "source": [
    "* [What Is the Average APR for a Car Loan](https://www.caranddriver.com/auto-loans/a31280000/average-apr-for-car-loan/)\n",
    "* [Auto Loan Calculator](https://www.calculator.net/auto-loan-calculator.html)"
   ]
  },
  {
   "cell_type": "code",
   "execution_count": 36,
   "metadata": {},
   "outputs": [
    {
     "name": "stdout",
     "output_type": "stream",
     "text": [
      "3138 39204\n"
     ]
    }
   ],
   "source": [
    "APR = 5.5/100\n",
    "print ( 1089 *36 - 36066 , 1089 *36 )"
   ]
  },
  {
   "cell_type": "code",
   "execution_count": 46,
   "metadata": {},
   "outputs": [
    {
     "data": {
      "text/plain": [
       "(168.85403461514943, 1001.8333333333334)"
      ]
     },
     "execution_count": 46,
     "metadata": {},
     "output_type": "execute_result"
    }
   ],
   "source": [
    "qishu = 365\n",
    "balence = 36066\n",
    "p1 = compound_interest(r=APR, P=balence, n=qishu,t=31/qishu) - balence\n",
    "\n",
    "principal = (balence)/36\n",
    "p1,principal"
   ]
  },
  {
   "cell_type": "code",
   "execution_count": null,
   "metadata": {},
   "outputs": [],
   "source": []
  }
 ],
 "metadata": {
  "kernelspec": {
   "display_name": "base",
   "language": "python",
   "name": "python3"
  },
  "language_info": {
   "codemirror_mode": {
    "name": "ipython",
    "version": 3
   },
   "file_extension": ".py",
   "mimetype": "text/x-python",
   "name": "python",
   "nbconvert_exporter": "python",
   "pygments_lexer": "ipython3",
   "version": "3.11.5"
  }
 },
 "nbformat": 4,
 "nbformat_minor": 2
}
