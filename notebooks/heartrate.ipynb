{
 "cells": [
  {
   "cell_type": "markdown",
   "metadata": {},
   "source": [
    "[![Open In Colab](https://colab.research.google.com/assets/colab-badge.svg)](https://colab.research.google.com/github/jinsanity07git/livedc/blob/main/notebooks/heartrate.ipynb#scrollTo=XgCQhLhv-Av0)"
   ]
  },
  {
   "cell_type": "code",
   "execution_count": null,
   "metadata": {},
   "outputs": [],
   "source": []
  },
  {
   "cell_type": "code",
   "execution_count": null,
   "metadata": {},
   "outputs": [],
   "source": [
    "import os; import sys; os.system(\"pip install livedc\") if \"COLAB_JUPYTER_TRANSPORT\" in os.environ else sys.path.insert(0, '../src')"
   ]
  },
  {
   "cell_type": "code",
   "execution_count": null,
   "metadata": {},
   "outputs": [
    {
     "data": {
      "text/markdown": [
       "The fat-burning zone is typically 50-70% of the maximum heart rate, which is calculated as:\n",
       "    $$ \\text{Maximum Heart Rate} = 220 - \\text{Age} $$\n",
       "    The lower and upper bounds of the fat-burning heart rate range are then calculated as:\n",
       "    $$ \\text{Lower Bound} = \\text{Maximum Heart Rate} \\times 0.5 $$\n",
       "    $$ \\text{Upper Bound} = \\text{Maximum Heart Rate} \\times 0.7 $$\n",
       "\n",
       "    Args:\n",
       "        age (int): Age of the person.\n",
       "        \n",
       "    Returns:\n",
       "        tuple: A tuple containing the lower and upper bounds of the heart rate range.\n",
       "    "
      ],
      "text/plain": [
       "<IPython.core.display.Markdown object>"
      ]
     },
     "metadata": {},
     "output_type": "display_data"
    }
   ],
   "source": [
    "from livedc.health.workout import fat_burning_heart_rate\n",
    "fat_burning_heart_rate.rdoc()"
   ]
  },
  {
   "cell_type": "code",
   "execution_count": null,
   "metadata": {},
   "outputs": [
    {
     "name": "stdout",
     "output_type": "stream",
     "text": [
      "Fat-burning heart rate range for age 30: (95.0, 133.0)\n"
     ]
    }
   ],
   "source": [
    "age = 30\n",
    "heart_rate_range = fat_burning_heart_rate(age)\n",
    "print(f\"Fat-burning heart rate range for age {age}: {heart_rate_range}\")"
   ]
  },
  {
   "cell_type": "code",
   "execution_count": null,
   "metadata": {},
   "outputs": [],
   "source": []
  }
 ],
 "metadata": {
  "kernelspec": {
   "display_name": "Python 3",
   "language": "python",
   "name": "python3"
  },
  "language_info": {
   "codemirror_mode": {
    "name": "ipython",
    "version": 3
   },
   "file_extension": ".py",
   "mimetype": "text/x-python",
   "name": "python",
   "nbconvert_exporter": "python",
   "pygments_lexer": "ipython3",
   "version": "3.12.1"
  }
 },
 "nbformat": 4,
 "nbformat_minor": 2
}
