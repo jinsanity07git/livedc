{
 "cells": [
  {
   "cell_type": "markdown",
   "metadata": {},
   "source": [
    "[![Open In Colab](https://colab.research.google.com/assets/colab-badge.svg)](https://colab.research.google.com/github/jinsanity07git/livedc/blob/main/notebooks/heartrate.ipynb#scrollTo=XgCQhLhv-Av0)"
   ]
  },
  {
   "cell_type": "code",
   "execution_count": 1,
   "metadata": {},
   "outputs": [],
   "source": [
    "import os; import sys; os.system(\"pip install livedc\") if \"COLAB_JUPYTER_TRANSPORT\" in os.environ else sys.path.insert(0, '../src')"
   ]
  },
  {
   "cell_type": "code",
   "execution_count": 2,
   "metadata": {},
   "outputs": [
    {
     "data": {
      "text/markdown": [
       "The fat-burning zone is typically 70-80% of the maximum heart rate, which is calculated as:\n",
       "    $$ \\text{Maximum Heart Rate} = 220 - \\text{Age} $$\n",
       "    The lower and upper bounds of the fat-burning heart rate range are then calculated as:\n",
       "    $$ \\text{Lower Bound} = \\text{Maximum Heart Rate} \\times 0.7 $$\n",
       "    $$ \\text{Upper Bound} = \\text{Maximum Heart Rate} \\times 0.8 $$\n",
       "\n",
       "    Args:\n",
       "        age (int): Age of the person.\n",
       "        \n",
       "    Returns:\n",
       "        tuple: A tuple containing the lower and upper bounds of the heart rate range.\n",
       "    \n",
       "    Reference:\n",
       "    * [Cracking the Code: Heart Rate Zones for Fat Burning](https://www.miramont.us/blog/heart-rate-to-burn-fat)\n",
       "    "
      ],
      "text/plain": [
       "<IPython.core.display.Markdown object>"
      ]
     },
     "metadata": {},
     "output_type": "display_data"
    }
   ],
   "source": [
    "from livedc.health.workout import fat_burning_heart_rate\n",
    "fat_burning_heart_rate.rdoc()"
   ]
  },
  {
   "cell_type": "code",
   "execution_count": 3,
   "metadata": {},
   "outputs": [
    {
     "name": "stdout",
     "output_type": "stream",
     "text": [
      "Fat-burning heart rate range for age 30: (133.0, 152.0)\n"
     ]
    }
   ],
   "source": [
    "age = 30\n",
    "heart_rate_range = fat_burning_heart_rate(age)\n",
    "mntime = 35\n",
    "maxhr = 162\t\n",
    "avehr = 153.95\n",
    "\n",
    "print(f\"Fat-burning heart rate range for age {age}: {heart_rate_range}\")"
   ]
  },
  {
   "cell_type": "code",
   "execution_count": 4,
   "metadata": {},
   "outputs": [
    {
     "name": "stdout",
     "output_type": "stream",
     "text": [
      "If a 30-year-old man jogs for 35 minutes with an average heart rate of 153.95 bpm and a max average heart rate of 162 bpmwith a fat-burning zone of (133.0, 152.0) bpm, what likely happens?\n"
     ]
    }
   ],
   "source": [
    "prompt = f\"If a {age}-year-old man jogs for {mntime} minutes with an average heart rate of {avehr} bpm and a max average heart rate of {maxhr} bpm\" + \\\n",
    "            f\"with a fat-burning zone of {heart_rate_range} bpm, what likely happens?\"\n",
    "print (prompt)"
   ]
  },
  {
   "cell_type": "markdown",
   "metadata": {},
   "source": [
    "LLM advice DEMO:"
   ]
  },
  {
   "cell_type": "markdown",
   "metadata": {},
   "source": [
    "If a 30-year-old man jogs for 35 minutes with:\n",
    "\n",
    "- **Average HR: ~154 bpm**\n",
    "- **Max HR during session: ~162 bpm**\n",
    "- **Fat-burning zone: 133.0 – 152.0 bpm**\n",
    "\n",
    "Here's what likely happens:\n",
    "\n",
    "------\n",
    "\n",
    "### ⚡️ **1. Exceeds Fat-Burning Zone → Enters Cardio Zone**\n",
    "\n",
    "- His **average HR (154 bpm)** is slightly **above the fat-burning zone**, pushing him into the **aerobic/cardio zone**.\n",
    "- **More total calories burned**, but **lower percentage of fat** used compared to staying within the fat-burning zone.\n",
    "\n",
    "> 🧠 Think: **Less fat burned proportionally**, but **still a great fat-loss workout** because of the higher overall energy burn and post-exercise effects.\n",
    "\n",
    "------\n",
    "\n",
    "### ❤️ **2. Cardiovascular Conditioning Improves**\n",
    "\n",
    "- Working in this range (around 80–85% of max HR) builds:\n",
    "  - **Aerobic capacity (VO₂ max)**\n",
    "  - **Heart strength**\n",
    "  - **Lung efficiency**\n",
    "\n",
    "This intensity is ideal for improving **endurance**, not just burning fat.\n",
    "\n",
    "------\n",
    "\n",
    "### 🔥 **3. Afterburn Effect (EPOC) Kicks In**\n",
    "\n",
    "- Higher-intensity efforts like this lead to **Excess Post-Exercise Oxygen Consumption** (EPOC).\n",
    "- You’ll continue burning calories **after** the workout while your body recovers.\n",
    "\n",
    "------\n",
    "\n",
    "### 💪 **4. Muscle Glycogen Used More Than Fat**\n",
    "\n",
    "- At 154–162 bpm, your body shifts to **carbohydrates (glycogen)** as the main fuel source.\n",
    "- Fat still contributes, but less than it would in the 133–152 bpm range.\n",
    "\n",
    "------\n",
    "\n",
    "### ✅ Summary:\n",
    "\n",
    "\n",
    "\n",
    "| Metric               | Outcome                                          |\n",
    "| -------------------- | ------------------------------------------------ |\n",
    "| **Calories burned**  | High ✅                                           |\n",
    "| **Fat % burned**     | Moderate ❗️(slightly less than in fat-burn zone)  |\n",
    "| **Cardio benefit**   | Strong ✅                                         |\n",
    "| **Endurance effect** | Improving ✅                                      |\n",
    "| **Risk**             | Low if well-trained, moderate if unconditioned ❗️ |\n",
    "\n",
    "------\n",
    "\n",
    "If this session felt sustainable and left him energized (not drained), it’s an **excellent cardio endurance builder**. But for **pure fat-burning**, slightly dialing it back (e.g., aiming for 145 bpm average) would increase the **fat-burning ratio**."
   ]
  }
 ],
 "metadata": {
  "kernelspec": {
   "display_name": "Python 3",
   "language": "python",
   "name": "python3"
  },
  "language_info": {
   "codemirror_mode": {
    "name": "ipython",
    "version": 3
   },
   "file_extension": ".py",
   "mimetype": "text/x-python",
   "name": "python",
   "nbconvert_exporter": "python",
   "pygments_lexer": "ipython3",
   "version": "3.12.1"
  }
 },
 "nbformat": 4,
 "nbformat_minor": 2
}
