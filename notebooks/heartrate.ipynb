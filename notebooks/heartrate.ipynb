{
 "cells": [
  {
   "cell_type": "markdown",
   "metadata": {},
   "source": [
    "[![Open In Colab](https://colab.research.google.com/assets/colab-badge.svg)](https://colab.research.google.com/github/jinsanity07git/livedc/blob/main/notebooks/heartrate.ipynb#scrollTo=XgCQhLhv-Av0)"
   ]
  },
  {
   "cell_type": "code",
   "execution_count": 1,
   "metadata": {},
   "outputs": [],
   "source": [
    "import os; import sys; os.system(\"pip install livedc\") if \"COLAB_JUPYTER_TRANSPORT\" in os.environ else sys.path.insert(0, '../src')"
   ]
  },
  {
   "cell_type": "code",
   "execution_count": 2,
   "metadata": {},
   "outputs": [
    {
     "data": {
      "text/markdown": [
       "The fat-burning zone is typically 50-70% of the maximum heart rate, which is calculated as:\n",
       "    $$ \\text{Maximum Heart Rate} = 220 - \\text{Age} $$\n",
       "    The lower and upper bounds of the fat-burning heart rate range are then calculated as:\n",
       "    $$ \\text{Lower Bound} = \\text{Maximum Heart Rate} \\times 0.5 $$\n",
       "    $$ \\text{Upper Bound} = \\text{Maximum Heart Rate} \\times 0.7 $$\n",
       "\n",
       "    Args:\n",
       "        age (int): Age of the person.\n",
       "        \n",
       "    Returns:\n",
       "        tuple: A tuple containing the lower and upper bounds of the heart rate range.\n",
       "    "
      ],
      "text/plain": [
       "<IPython.core.display.Markdown object>"
      ]
     },
     "metadata": {},
     "output_type": "display_data"
    }
   ],
   "source": [
    "from livedc.health.workout import fat_burning_heart_rate\n",
    "fat_burning_heart_rate.rdoc()"
   ]
  },
  {
   "cell_type": "code",
   "execution_count": 3,
   "metadata": {},
   "outputs": [
    {
     "name": "stdout",
     "output_type": "stream",
     "text": [
      "Fat-burning heart rate range for age 30: (95.0, 133.0)\n"
     ]
    }
   ],
   "source": [
    "age = 30\n",
    "heart_rate_range = fat_burning_heart_rate(age)\n",
    "mntime = 35\n",
    "avgbpm  = 160\n",
    "print(f\"Fat-burning heart rate range for age {age}: {heart_rate_range}\")"
   ]
  },
  {
   "cell_type": "code",
   "execution_count": 4,
   "metadata": {},
   "outputs": [
    {
     "name": "stdout",
     "output_type": "stream",
     "text": [
      "If a 30-year-old man jogs for 35 minutes with an average heart rate of 160 bpm,with a fat-burning zone of (95.0, 133.0) bpm, what likely happens?\n"
     ]
    }
   ],
   "source": [
    "prompt = f\"If a {age}-year-old man jogs for {mntime} minutes with an average heart rate of {avgbpm} bpm,\" + \\\n",
    "            f\"with a fat-burning zone of {heart_rate_range} bpm, what likely happens?\"\n",
    "print (prompt)"
   ]
  },
  {
   "cell_type": "markdown",
   "metadata": {},
   "source": [
    "LLM advice DEMO:"
   ]
  },
  {
   "cell_type": "markdown",
   "metadata": {},
   "source": [
    "If a 30-year-old man jogs for 35 minutes with an **average heart rate of 160 bpm**, which is well **above his fat-burning zone of 95–133 bpm**, here's what likely happens:\n",
    "\n",
    "### 🔥 1. **More Calories Burned, Less Fat Percentage**\n",
    "\n",
    "- At **160 bpm**, he's exercising in the **cardio or high-intensity zone**, likely around **80–90% of his max heart rate** (220 - 30 = 190 bpm max).\n",
    "- This zone **burns more total calories**, but the **percentage of fat used for fuel is lower** than in the fat-burning zone. The body relies more on **glycogen (carbs)** than fat at this intensity.\n",
    "\n",
    "### ⚙️ 2. **Improved Cardiovascular Fitness**\n",
    "\n",
    "- Sustaining that HR for 35 minutes builds **aerobic endurance** and improves **cardiovascular health**.\n",
    "- It can also increase VO₂ max over time (your body’s ability to use oxygen efficiently).\n",
    "\n",
    "### 💪 3. **Muscle Fatigue & Recovery Needs**\n",
    "\n",
    "- At that intensity, muscles work harder, which leads to **higher lactate production**, possible **soreness**, and a **longer recovery period** compared to lower-intensity fat-burning exercise.\n",
    "\n",
    "### ⚠️ 4. **Risk Consideration**\n",
    "\n",
    "- If he’s **not used to high-intensity workouts** or has any **underlying health conditions**, sustaining 160 bpm for 35 minutes could cause:\n",
    "  - Excessive strain on the heart\n",
    "  - Dehydration or overheating\n",
    "  - Overtraining symptoms if done too often\n",
    "\n",
    "### ✅ Summary:\n",
    "\n",
    "- **Pro**: Great for cardio endurance and total calorie burn.\n",
    "- **Con**: Not the most efficient for fat-burning percentage-wise, and it's more demanding on the body.\n",
    "\n",
    "Would you like help with planning a workout routine depending on your goal—like fat loss vs endurance?"
   ]
  }
 ],
 "metadata": {
  "kernelspec": {
   "display_name": "Python 3",
   "language": "python",
   "name": "python3"
  },
  "language_info": {
   "codemirror_mode": {
    "name": "ipython",
    "version": 3
   },
   "file_extension": ".py",
   "mimetype": "text/x-python",
   "name": "python",
   "nbconvert_exporter": "python",
   "pygments_lexer": "ipython3",
   "version": "3.12.1"
  }
 },
 "nbformat": 4,
 "nbformat_minor": 2
}
